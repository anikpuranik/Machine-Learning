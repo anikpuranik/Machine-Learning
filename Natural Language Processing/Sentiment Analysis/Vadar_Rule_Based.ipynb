{
 "cells": [
  {
   "cell_type": "markdown",
   "metadata": {},
   "source": [
    "# Vadar\n",
    "Vadar is a rule based or lexicon based approach for predicting sentiment where each word is assigned a value and than each word is summed to obtain a review"
   ]
  },
  {
   "cell_type": "markdown",
   "metadata": {},
   "source": [
    "### Importing Libraries"
   ]
  },
  {
   "cell_type": "code",
   "execution_count": 77,
   "metadata": {},
   "outputs": [],
   "source": [
    "import pandas as pd"
   ]
  },
  {
   "cell_type": "markdown",
   "metadata": {},
   "source": [
    "### Loading Data"
   ]
  },
  {
   "cell_type": "code",
   "execution_count": 78,
   "metadata": {},
   "outputs": [],
   "source": [
    "dataset = pd.read_csv('Sentiments.csv', delimiter='\\t')"
   ]
  },
  {
   "cell_type": "code",
   "execution_count": 79,
   "metadata": {},
   "outputs": [
    {
     "name": "stdout",
     "output_type": "stream",
     "text": [
      "<class 'pandas.core.frame.DataFrame'>\n",
      "RangeIndex: 1000 entries, 0 to 999\n",
      "Data columns (total 2 columns):\n",
      " #   Column   Non-Null Count  Dtype \n",
      "---  ------   --------------  ----- \n",
      " 0   Labels   1000 non-null   int64 \n",
      " 1   Reviews  1000 non-null   object\n",
      "dtypes: int64(1), object(1)\n",
      "memory usage: 15.8+ KB\n"
     ]
    }
   ],
   "source": [
    "dataset.info()"
   ]
  },
  {
   "cell_type": "code",
   "execution_count": 80,
   "metadata": {},
   "outputs": [
    {
     "data": {
      "text/plain": [
       "0                             Wow... Loved this place.\n",
       "1                                   Crust is not good.\n",
       "2            Not tasty and the texture was just nasty.\n",
       "3    Stopped by during the late May bank holiday of...\n",
       "4    The selection on the menu was great and so wer...\n",
       "Name: Reviews, dtype: object"
      ]
     },
     "execution_count": 80,
     "metadata": {},
     "output_type": "execute_result"
    }
   ],
   "source": [
    "dataset.Reviews[:5]"
   ]
  },
  {
   "cell_type": "markdown",
   "metadata": {},
   "source": [
    "### Vadar Explanation"
   ]
  },
  {
   "cell_type": "code",
   "execution_count": 81,
   "metadata": {},
   "outputs": [
    {
     "data": {
      "text/plain": [
       "{'neg': 0.0, 'neu': 0.435, 'pos': 0.565, 'compound': 0.5994}"
      ]
     },
     "execution_count": 81,
     "metadata": {},
     "output_type": "execute_result"
    }
   ],
   "source": [
    "from nltk.sentiment.vader import SentimentIntensityAnalyzer\n",
    "sent_analysis = SentimentIntensityAnalyzer()\n",
    "sent_analysis.polarity_scores(dataset.Reviews[0])"
   ]
  },
  {
   "cell_type": "code",
   "execution_count": 82,
   "metadata": {},
   "outputs": [
    {
     "data": {
      "text/plain": [
       "['Wow...', 'Loved', 'this', 'place.']"
      ]
     },
     "execution_count": 82,
     "metadata": {},
     "output_type": "execute_result"
    }
   ],
   "source": [
    "text = dataset.Reviews[0]\n",
    "text.split(' ')"
   ]
  },
  {
   "cell_type": "code",
   "execution_count": 83,
   "metadata": {},
   "outputs": [
    {
     "data": {
      "text/plain": [
       "{'neg': 0.0, 'neu': 0.0, 'pos': 1.0, 'compound': 0.5859}"
      ]
     },
     "execution_count": 83,
     "metadata": {},
     "output_type": "execute_result"
    }
   ],
   "source": [
    "sent_analysis.polarity_scores('Wow'), \n",
    "sent_analysis.polarity_scores('Wow...'), \n",
    "sent_analysis.polarity_scores('wow')"
   ]
  },
  {
   "cell_type": "markdown",
   "metadata": {},
   "source": [
    "Here, you can see that the effect of lower and upper case has no effect on this approach but the effect \"...\" is significant. So, For Vader Approach data preprocessing is very important step."
   ]
  },
  {
   "cell_type": "code",
   "execution_count": 84,
   "metadata": {},
   "outputs": [
    {
     "data": {
      "text/plain": [
       "{'neg': 0.0, 'neu': 0.0, 'pos': 1.0, 'compound': 0.4588}"
      ]
     },
     "execution_count": 84,
     "metadata": {},
     "output_type": "execute_result"
    }
   ],
   "source": [
    "sent_analysis.polarity_scores(':')  #No meaning\n",
    "sent_analysis.polarity_scores(')')  #No meaning\n",
    "sent_analysis.polarity_scores(':)') #Smile or Happy or Positive Emotion"
   ]
  },
  {
   "cell_type": "markdown",
   "metadata": {},
   "source": [
    "We can also infer that the it can also handle emotions, so this should be included as it can change the result."
   ]
  },
  {
   "cell_type": "code",
   "execution_count": 85,
   "metadata": {},
   "outputs": [
    {
     "data": {
      "text/plain": [
       "['wow', '', '', '', 'loved', 'this', 'place', '']"
      ]
     },
     "execution_count": 85,
     "metadata": {},
     "output_type": "execute_result"
    }
   ],
   "source": [
    "import re\n",
    "new_text = re.sub(\"[^'a-z]\",' ',text.lower())\n",
    "words = new_text.split(' ')\n",
    "words"
   ]
  },
  {
   "cell_type": "code",
   "execution_count": 86,
   "metadata": {},
   "outputs": [
    {
     "name": "stdout",
     "output_type": "stream",
     "text": [
      " {'neg': 0.0, 'neu': 0.0, 'pos': 0.0, 'compound': 0.0}\n",
      "loved {'neg': 0.0, 'neu': 0.0, 'pos': 1.0, 'compound': 0.5994}\n",
      "wow {'neg': 0.0, 'neu': 0.0, 'pos': 1.0, 'compound': 0.5859}\n",
      "this {'neg': 0.0, 'neu': 1.0, 'pos': 0.0, 'compound': 0.0}\n",
      "place {'neg': 0.0, 'neu': 1.0, 'pos': 0.0, 'compound': 0.0}\n"
     ]
    }
   ],
   "source": [
    "for word in list(set(words)):\n",
    "    score = sent_analysis.polarity_scores(word)\n",
    "    print(word, score)"
   ]
  },
  {
   "cell_type": "code",
   "execution_count": 87,
   "metadata": {},
   "outputs": [
    {
     "data": {
      "text/plain": [
       "{'neg': 0.0, 'neu': 0.435, 'pos': 0.565, 'compound': 0.5994}"
      ]
     },
     "execution_count": 87,
     "metadata": {},
     "output_type": "execute_result"
    }
   ],
   "source": [
    "sent_analysis.polarity_scores(text)"
   ]
  },
  {
   "cell_type": "markdown",
   "metadata": {},
   "source": [
    "### Data Preprocessing"
   ]
  },
  {
   "cell_type": "code",
   "execution_count": 88,
   "metadata": {},
   "outputs": [],
   "source": [
    "from tqdm import tqdm"
   ]
  },
  {
   "cell_type": "code",
   "execution_count": 89,
   "metadata": {},
   "outputs": [
    {
     "name": "stderr",
     "output_type": "stream",
     "text": [
      "100%|██████████| 1000/1000 [00:00<00:00, 184640.96it/s]\n"
     ]
    }
   ],
   "source": [
    "processed_reviews = []\n",
    "for review in tqdm(dataset.Reviews):\n",
    "    tokenize_review = re.sub(\"[^'a-z]\",' ',review.lower())\n",
    "    processed_reviews.append(tokenize_review)"
   ]
  },
  {
   "cell_type": "code",
   "execution_count": 95,
   "metadata": {},
   "outputs": [
    {
     "data": {
      "text/plain": [
       "\"honeslty it didn't taste that fresh  \""
      ]
     },
     "execution_count": 95,
     "metadata": {},
     "output_type": "execute_result"
    }
   ],
   "source": [
    "processed_reviews[6]"
   ]
  },
  {
   "cell_type": "code",
   "execution_count": 96,
   "metadata": {},
   "outputs": [],
   "source": [
    "dataset['Processed_Review'] = processed_reviews"
   ]
  },
  {
   "cell_type": "markdown",
   "metadata": {},
   "source": [
    "###  Testing Result"
   ]
  },
  {
   "cell_type": "code",
   "execution_count": 101,
   "metadata": {},
   "outputs": [],
   "source": [
    "review_score = []\n",
    "for review in processed_reviews:\n",
    "    score = sent_analysis.polarity_scores(review)\n",
    "    if score['compound'] > 0:\n",
    "        review_score.append(1)\n",
    "    elif score['compound'] < 0:\n",
    "        review_score.append(-1)\n",
    "    else:\n",
    "        review_score.append(0)"
   ]
  },
  {
   "cell_type": "code",
   "execution_count": 102,
   "metadata": {},
   "outputs": [],
   "source": [
    "dataset['Vader_Score']= review_score"
   ]
  },
  {
   "cell_type": "code",
   "execution_count": 104,
   "metadata": {},
   "outputs": [
    {
     "data": {
      "text/plain": [
       "653"
      ]
     },
     "execution_count": 104,
     "metadata": {},
     "output_type": "execute_result"
    }
   ],
   "source": [
    "# accuracy\n",
    "sum(dataset['Labels'] == dataset['Vader_Score'])"
   ]
  },
  {
   "cell_type": "markdown",
   "metadata": {},
   "source": [
    "accuracy is 65.3% which is not good. But since score is in 3 categories (pos, neg, neu) lets make analysis for the result."
   ]
  },
  {
   "cell_type": "markdown",
   "metadata": {},
   "source": [
    "### Analysing Difference"
   ]
  },
  {
   "cell_type": "code",
   "execution_count": 122,
   "metadata": {},
   "outputs": [
    {
     "data": {
      "text/html": [
       "<div>\n",
       "<style scoped>\n",
       "    .dataframe tbody tr th:only-of-type {\n",
       "        vertical-align: middle;\n",
       "    }\n",
       "\n",
       "    .dataframe tbody tr th {\n",
       "        vertical-align: top;\n",
       "    }\n",
       "\n",
       "    .dataframe thead th {\n",
       "        text-align: right;\n",
       "    }\n",
       "</style>\n",
       "<table border=\"1\" class=\"dataframe\">\n",
       "  <thead>\n",
       "    <tr style=\"text-align: right;\">\n",
       "      <th></th>\n",
       "      <th>Labels</th>\n",
       "      <th>Reviews</th>\n",
       "      <th>Processed_Review</th>\n",
       "      <th>Vader_Score</th>\n",
       "    </tr>\n",
       "  </thead>\n",
       "  <tbody>\n",
       "    <tr>\n",
       "      <th>0</th>\n",
       "      <td>1</td>\n",
       "      <td>Wow... Loved this place.</td>\n",
       "      <td>wow    loved this place</td>\n",
       "      <td>1</td>\n",
       "    </tr>\n",
       "    <tr>\n",
       "      <th>1</th>\n",
       "      <td>-1</td>\n",
       "      <td>Crust is not good.</td>\n",
       "      <td>crust is not good</td>\n",
       "      <td>-1</td>\n",
       "    </tr>\n",
       "    <tr>\n",
       "      <th>2</th>\n",
       "      <td>-1</td>\n",
       "      <td>Not tasty and the texture was just nasty.</td>\n",
       "      <td>not tasty and the texture was just nasty</td>\n",
       "      <td>-1</td>\n",
       "    </tr>\n",
       "    <tr>\n",
       "      <th>3</th>\n",
       "      <td>1</td>\n",
       "      <td>Stopped by during the late May bank holiday of...</td>\n",
       "      <td>stopped by during the late may bank holiday of...</td>\n",
       "      <td>1</td>\n",
       "    </tr>\n",
       "    <tr>\n",
       "      <th>4</th>\n",
       "      <td>1</td>\n",
       "      <td>The selection on the menu was great and so wer...</td>\n",
       "      <td>the selection on the menu was great and so wer...</td>\n",
       "      <td>1</td>\n",
       "    </tr>\n",
       "    <tr>\n",
       "      <th>5</th>\n",
       "      <td>-1</td>\n",
       "      <td>Now I am getting angry and I want my damn pho.</td>\n",
       "      <td>now i am getting angry and i want my damn pho</td>\n",
       "      <td>-1</td>\n",
       "    </tr>\n",
       "    <tr>\n",
       "      <th>6</th>\n",
       "      <td>-1</td>\n",
       "      <td>Honeslty it didn't taste THAT fresh.)</td>\n",
       "      <td>honeslty it didn't taste that fresh</td>\n",
       "      <td>-1</td>\n",
       "    </tr>\n",
       "    <tr>\n",
       "      <th>7</th>\n",
       "      <td>-1</td>\n",
       "      <td>The potatoes were like rubber and you could te...</td>\n",
       "      <td>the potatoes were like rubber and you could te...</td>\n",
       "      <td>1</td>\n",
       "    </tr>\n",
       "    <tr>\n",
       "      <th>8</th>\n",
       "      <td>1</td>\n",
       "      <td>The fries were great too.</td>\n",
       "      <td>the fries were great too</td>\n",
       "      <td>1</td>\n",
       "    </tr>\n",
       "    <tr>\n",
       "      <th>9</th>\n",
       "      <td>1</td>\n",
       "      <td>A great touch.</td>\n",
       "      <td>a great touch</td>\n",
       "      <td>1</td>\n",
       "    </tr>\n",
       "    <tr>\n",
       "      <th>10</th>\n",
       "      <td>1</td>\n",
       "      <td>Service was very prompt.</td>\n",
       "      <td>service was very prompt</td>\n",
       "      <td>0</td>\n",
       "    </tr>\n",
       "    <tr>\n",
       "      <th>11</th>\n",
       "      <td>-1</td>\n",
       "      <td>Would not go back.</td>\n",
       "      <td>would not go back</td>\n",
       "      <td>0</td>\n",
       "    </tr>\n",
       "    <tr>\n",
       "      <th>12</th>\n",
       "      <td>-1</td>\n",
       "      <td>The cashier had no care what so ever on what I...</td>\n",
       "      <td>the cashier had no care what so ever on what i...</td>\n",
       "      <td>1</td>\n",
       "    </tr>\n",
       "    <tr>\n",
       "      <th>13</th>\n",
       "      <td>1</td>\n",
       "      <td>I tried the Cape Cod ravoli, chicken, with cra...</td>\n",
       "      <td>i tried the cape cod ravoli  chicken  with cra...</td>\n",
       "      <td>0</td>\n",
       "    </tr>\n",
       "    <tr>\n",
       "      <th>14</th>\n",
       "      <td>-1</td>\n",
       "      <td>I was disgusted because I was pretty sure that...</td>\n",
       "      <td>i was disgusted because i was pretty sure that...</td>\n",
       "      <td>1</td>\n",
       "    </tr>\n",
       "    <tr>\n",
       "      <th>15</th>\n",
       "      <td>-1</td>\n",
       "      <td>I was shocked because no signs indicate cash o...</td>\n",
       "      <td>i was shocked because no signs indicate cash o...</td>\n",
       "      <td>-1</td>\n",
       "    </tr>\n",
       "    <tr>\n",
       "      <th>16</th>\n",
       "      <td>1</td>\n",
       "      <td>Highly recommended.</td>\n",
       "      <td>highly recommended</td>\n",
       "      <td>1</td>\n",
       "    </tr>\n",
       "    <tr>\n",
       "      <th>17</th>\n",
       "      <td>-1</td>\n",
       "      <td>Waitress was a little slow in service.</td>\n",
       "      <td>waitress was a little slow in service</td>\n",
       "      <td>0</td>\n",
       "    </tr>\n",
       "    <tr>\n",
       "      <th>18</th>\n",
       "      <td>-1</td>\n",
       "      <td>This place is not worth your time, let alone V...</td>\n",
       "      <td>this place is not worth your time  let alone v...</td>\n",
       "      <td>-1</td>\n",
       "    </tr>\n",
       "    <tr>\n",
       "      <th>19</th>\n",
       "      <td>-1</td>\n",
       "      <td>did not like at all.</td>\n",
       "      <td>did not like at all</td>\n",
       "      <td>-1</td>\n",
       "    </tr>\n",
       "    <tr>\n",
       "      <th>20</th>\n",
       "      <td>-1</td>\n",
       "      <td>The Burrittos Blah!</td>\n",
       "      <td>the burrittos blah</td>\n",
       "      <td>-1</td>\n",
       "    </tr>\n",
       "    <tr>\n",
       "      <th>21</th>\n",
       "      <td>1</td>\n",
       "      <td>The food, amazing.</td>\n",
       "      <td>the food  amazing</td>\n",
       "      <td>1</td>\n",
       "    </tr>\n",
       "    <tr>\n",
       "      <th>22</th>\n",
       "      <td>1</td>\n",
       "      <td>Service is also cute.</td>\n",
       "      <td>service is also cute</td>\n",
       "      <td>1</td>\n",
       "    </tr>\n",
       "    <tr>\n",
       "      <th>23</th>\n",
       "      <td>1</td>\n",
       "      <td>I could care less... The interior is just beau...</td>\n",
       "      <td>i could care less    the interior is just beau...</td>\n",
       "      <td>1</td>\n",
       "    </tr>\n",
       "    <tr>\n",
       "      <th>24</th>\n",
       "      <td>1</td>\n",
       "      <td>So they performed.</td>\n",
       "      <td>so they performed</td>\n",
       "      <td>0</td>\n",
       "    </tr>\n",
       "    <tr>\n",
       "      <th>25</th>\n",
       "      <td>1</td>\n",
       "      <td>That's right....the red velvet cake.....ohhh t...</td>\n",
       "      <td>that's right    the red velvet cake     ohhh t...</td>\n",
       "      <td>1</td>\n",
       "    </tr>\n",
       "    <tr>\n",
       "      <th>26</th>\n",
       "      <td>-1</td>\n",
       "      <td>- They never brought a salad we asked for.</td>\n",
       "      <td>they never brought a salad we asked for</td>\n",
       "      <td>0</td>\n",
       "    </tr>\n",
       "    <tr>\n",
       "      <th>27</th>\n",
       "      <td>1</td>\n",
       "      <td>This hole in the wall has great Mexican street...</td>\n",
       "      <td>this hole in the wall has great mexican street...</td>\n",
       "      <td>1</td>\n",
       "    </tr>\n",
       "    <tr>\n",
       "      <th>28</th>\n",
       "      <td>-1</td>\n",
       "      <td>Took an hour to get our food only 4 tables in ...</td>\n",
       "      <td>took an hour to get our food only   tables in ...</td>\n",
       "      <td>1</td>\n",
       "    </tr>\n",
       "    <tr>\n",
       "      <th>29</th>\n",
       "      <td>-1</td>\n",
       "      <td>The worst was the salmon sashimi.</td>\n",
       "      <td>the worst was the salmon sashimi</td>\n",
       "      <td>-1</td>\n",
       "    </tr>\n",
       "  </tbody>\n",
       "</table>\n",
       "</div>"
      ],
      "text/plain": [
       "    Labels                                            Reviews  \\\n",
       "0        1                           Wow... Loved this place.   \n",
       "1       -1                                 Crust is not good.   \n",
       "2       -1          Not tasty and the texture was just nasty.   \n",
       "3        1  Stopped by during the late May bank holiday of...   \n",
       "4        1  The selection on the menu was great and so wer...   \n",
       "5       -1     Now I am getting angry and I want my damn pho.   \n",
       "6       -1              Honeslty it didn't taste THAT fresh.)   \n",
       "7       -1  The potatoes were like rubber and you could te...   \n",
       "8        1                          The fries were great too.   \n",
       "9        1                                     A great touch.   \n",
       "10       1                           Service was very prompt.   \n",
       "11      -1                                 Would not go back.   \n",
       "12      -1  The cashier had no care what so ever on what I...   \n",
       "13       1  I tried the Cape Cod ravoli, chicken, with cra...   \n",
       "14      -1  I was disgusted because I was pretty sure that...   \n",
       "15      -1  I was shocked because no signs indicate cash o...   \n",
       "16       1                                Highly recommended.   \n",
       "17      -1             Waitress was a little slow in service.   \n",
       "18      -1  This place is not worth your time, let alone V...   \n",
       "19      -1                               did not like at all.   \n",
       "20      -1                                The Burrittos Blah!   \n",
       "21       1                                 The food, amazing.   \n",
       "22       1                              Service is also cute.   \n",
       "23       1  I could care less... The interior is just beau...   \n",
       "24       1                                 So they performed.   \n",
       "25       1  That's right....the red velvet cake.....ohhh t...   \n",
       "26      -1         - They never brought a salad we asked for.   \n",
       "27       1  This hole in the wall has great Mexican street...   \n",
       "28      -1  Took an hour to get our food only 4 tables in ...   \n",
       "29      -1                  The worst was the salmon sashimi.   \n",
       "\n",
       "                                     Processed_Review  Vader_Score  \n",
       "0                            wow    loved this place             1  \n",
       "1                                  crust is not good            -1  \n",
       "2           not tasty and the texture was just nasty            -1  \n",
       "3   stopped by during the late may bank holiday of...            1  \n",
       "4   the selection on the menu was great and so wer...            1  \n",
       "5      now i am getting angry and i want my damn pho            -1  \n",
       "6               honeslty it didn't taste that fresh             -1  \n",
       "7   the potatoes were like rubber and you could te...            1  \n",
       "8                           the fries were great too             1  \n",
       "9                                      a great touch             1  \n",
       "10                           service was very prompt             0  \n",
       "11                                 would not go back             0  \n",
       "12  the cashier had no care what so ever on what i...            1  \n",
       "13  i tried the cape cod ravoli  chicken  with cra...            0  \n",
       "14  i was disgusted because i was pretty sure that...            1  \n",
       "15  i was shocked because no signs indicate cash o...           -1  \n",
       "16                                highly recommended             1  \n",
       "17             waitress was a little slow in service             0  \n",
       "18  this place is not worth your time  let alone v...           -1  \n",
       "19                               did not like at all            -1  \n",
       "20                                the burrittos blah            -1  \n",
       "21                                 the food  amazing             1  \n",
       "22                              service is also cute             1  \n",
       "23  i could care less    the interior is just beau...            1  \n",
       "24                                 so they performed             0  \n",
       "25  that's right    the red velvet cake     ohhh t...            1  \n",
       "26           they never brought a salad we asked for             0  \n",
       "27  this hole in the wall has great mexican street...            1  \n",
       "28  took an hour to get our food only   tables in ...            1  \n",
       "29                  the worst was the salmon sashimi            -1  "
      ]
     },
     "execution_count": 122,
     "metadata": {},
     "output_type": "execute_result"
    }
   ],
   "source": [
    "dataset.head(30)"
   ]
  },
  {
   "cell_type": "markdown",
   "metadata": {},
   "source": [
    "For few data the score is 0. We can see at index 10, 11, 13, 17. "
   ]
  },
  {
   "cell_type": "code",
   "execution_count": 107,
   "metadata": {},
   "outputs": [
    {
     "name": "stdout",
     "output_type": "stream",
     "text": [
      "{'neg': 0.0, 'neu': 1.0, 'pos': 0.0, 'compound': 0.0}\n"
     ]
    }
   ],
   "source": [
    "#would not go back, index=11\n",
    "print(sent_analysis.polarity_scores(\"would not go back\"))"
   ]
  },
  {
   "cell_type": "markdown",
   "metadata": {},
   "source": [
    "\"would not go back\" has score=0. Here, with a sentence there is no sentiment associated but as a human it is easier to understand the review. So, this is the issue while working with VADAR. It is unable to classify sentence with not a sentiment word."
   ]
  },
  {
   "cell_type": "code",
   "execution_count": 124,
   "metadata": {},
   "outputs": [
    {
     "name": "stdout",
     "output_type": "stream",
     "text": [
      "Took an hour to get our food only 4 tables in restaurant my food was Luke warm, Our sever was running around like he was totally overwhelmed.\n",
      "{'neg': 0.0, 'neu': 1.0, 'pos': 0.0, 'compound': 0.0}\n"
     ]
    }
   ],
   "source": [
    "#index = 17\n",
    "print(sent_analysis.polarity_scores(\"waitress was a little slow in service\"))"
   ]
  },
  {
   "cell_type": "code",
   "execution_count": 134,
   "metadata": {},
   "outputs": [
    {
     "name": "stdout",
     "output_type": "stream",
     "text": [
      "Took an hour to get our food only 4 tables in restaurant my food was Luke warm, Our sever was running around like he was totally overwhelmed.\n"
     ]
    },
    {
     "data": {
      "text/plain": [
       "{'neg': 0.0, 'neu': 0.401, 'pos': 0.599, 'compound': 0.1263}"
      ]
     },
     "execution_count": 134,
     "metadata": {},
     "output_type": "execute_result"
    }
   ],
   "source": [
    "#index=28\n",
    "print(dataset['Reviews'][28])\n",
    "sent_analysis.polarity_scores(\"totally overwhelmed\")"
   ]
  },
  {
   "cell_type": "markdown",
   "metadata": {},
   "source": [
    "We can see it is assigning totally overwhelmed with a positive score which is incoorect. So, this may fail to take context into account, which result in incorrect results."
   ]
  },
  {
   "cell_type": "markdown",
   "metadata": {},
   "source": [
    "So, considering simple sentence that contains word of emotion and removing all neutral sentences, lets find the accuracy."
   ]
  },
  {
   "cell_type": "code",
   "execution_count": 136,
   "metadata": {},
   "outputs": [
    {
     "data": {
      "text/plain": [
       "0.8524804177545692"
      ]
     },
     "execution_count": 136,
     "metadata": {},
     "output_type": "execute_result"
    }
   ],
   "source": [
    "check = dataset[dataset['Vader_Score']!=0] \n",
    "sum(check['Labels'] == check['Vader_Score'])/len(check)"
   ]
  },
  {
   "cell_type": "markdown",
   "metadata": {},
   "source": [
    "If sentences with non-neutral words are to be considered the accuracy of model is 85% which is quite good. So, we can conclude that:\n",
    "1. Vadar is fast.\n",
    "2. Easier to implement.\n",
    "3. Very good while predicting simple sentence."
   ]
  },
  {
   "cell_type": "code",
   "execution_count": null,
   "metadata": {},
   "outputs": [],
   "source": []
  }
 ],
 "metadata": {
  "kernelspec": {
   "display_name": "Python 3",
   "language": "python",
   "name": "python3"
  },
  "language_info": {
   "codemirror_mode": {
    "name": "ipython",
    "version": 3
   },
   "file_extension": ".py",
   "mimetype": "text/x-python",
   "name": "python",
   "nbconvert_exporter": "python",
   "pygments_lexer": "ipython3",
   "version": "3.8.3"
  }
 },
 "nbformat": 4,
 "nbformat_minor": 4
}
