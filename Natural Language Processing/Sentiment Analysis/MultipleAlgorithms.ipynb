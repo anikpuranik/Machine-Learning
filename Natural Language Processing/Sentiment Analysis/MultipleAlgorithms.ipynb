{
 "cells": [
  {
   "cell_type": "markdown",
   "metadata": {},
   "source": [
    "# Logistic Regression, Naive Bayes, SVM"
   ]
  },
  {
   "cell_type": "markdown",
   "metadata": {},
   "source": [
    "### Importing Libraries"
   ]
  },
  {
   "cell_type": "code",
   "execution_count": 1,
   "metadata": {},
   "outputs": [],
   "source": [
    "import re\n",
    "import pandas as pd\n",
    "from tqdm import tqdm\n",
    "from nltk.stem import SnowballStemmer\n",
    "from sklearn.model_selection import train_test_split\n",
    "from sklearn.feature_extraction.text import TfidfVectorizer, CountVectorizer\n",
    "from sklearn import naive_bayes, linear_model, svm\n",
    "from sklearn.metrics import confusion_matrix"
   ]
  },
  {
   "cell_type": "markdown",
   "metadata": {},
   "source": [
    "### Loading Dataset"
   ]
  },
  {
   "cell_type": "code",
   "execution_count": 2,
   "metadata": {},
   "outputs": [],
   "source": [
    "dataset = pd.read_csv('Sentiments.csv', delimiter='\\t')\n",
    "labels = dataset.Labels.copy()\n",
    "reviews = dataset.Reviews.copy()"
   ]
  },
  {
   "cell_type": "markdown",
   "metadata": {},
   "source": [
    "### Data Preprocessing"
   ]
  },
  {
   "cell_type": "code",
   "execution_count": 3,
   "metadata": {},
   "outputs": [
    {
     "name": "stderr",
     "output_type": "stream",
     "text": [
      "1000it [00:00, 7291.09it/s]\n"
     ]
    }
   ],
   "source": [
    "stemmer = SnowballStemmer('english')\n",
    "for ind,text in tqdm(enumerate(reviews)):\n",
    "    text = re.sub('[!.]','',text.lower()).split()\n",
    "    review = [stemmer.stem(word) \n",
    "              for word in text\n",
    "              if word.isalpha()\n",
    "              ]\n",
    "    reviews[ind] = ' '.join(review)"
   ]
  },
  {
   "cell_type": "code",
   "execution_count": 4,
   "metadata": {},
   "outputs": [],
   "source": [
    "vectorizer1 = TfidfVectorizer()\n",
    "reviews1 = vectorizer1.fit_transform(reviews)\n",
    "reviews1 = reviews1.toarray()"
   ]
  },
  {
   "cell_type": "code",
   "execution_count": 5,
   "metadata": {},
   "outputs": [],
   "source": [
    "vectorizer2 = CountVectorizer()\n",
    "reviews2 = vectorizer2.fit_transform(reviews)\n",
    "reviews2 = reviews2.toarray()"
   ]
  },
  {
   "cell_type": "code",
   "execution_count": 8,
   "metadata": {},
   "outputs": [],
   "source": [
    "x_train_tfidf, x_test_tfidf, y_train_tfidf, y_test_tfidf = train_test_split(reviews1, labels, train_size=0.8)\n",
    "x_train_cv, x_test_cv, y_train_cv, y_test_cv = train_test_split(reviews2, labels, train_size=0.8)"
   ]
  },
  {
   "cell_type": "markdown",
   "metadata": {},
   "source": [
    "### Model Creation"
   ]
  },
  {
   "cell_type": "code",
   "execution_count": 9,
   "metadata": {},
   "outputs": [],
   "source": [
    "model = [naive_bayes.GaussianNB ,linear_model.LogisticRegression, svm.SVC]"
   ]
  },
  {
   "cell_type": "code",
   "execution_count": 10,
   "metadata": {},
   "outputs": [],
   "source": [
    "def model_designing(model, x, y):\n",
    "    # training the model\n",
    "    model = model()\n",
    "    model.fit(x, y)\n",
    "    return model"
   ]
  },
  {
   "cell_type": "code",
   "execution_count": 11,
   "metadata": {},
   "outputs": [],
   "source": [
    "models_tfidf = [model_designing(model[i], x_train_tfidf, y_train_tfidf) for i in range(3)]\n",
    "models_cv = [model_designing(model[i], x_train_cv, y_train_cv) for i in range(3)]"
   ]
  },
  {
   "cell_type": "markdown",
   "metadata": {},
   "source": [
    "### Model Prediction "
   ]
  },
  {
   "cell_type": "code",
   "execution_count": 12,
   "metadata": {},
   "outputs": [],
   "source": [
    "def prediction_evulation(model, x_test1):\n",
    "    # testing model\n",
    "    y_pred1, y_pred2, y_pred3 = [model[i].predict(x_test1) for i in range(3)]\n",
    "    return y_pred1, y_pred2, y_pred3"
   ]
  },
  {
   "cell_type": "code",
   "execution_count": 13,
   "metadata": {},
   "outputs": [],
   "source": [
    "y_tfidf = prediction_evulation(models_tfidf, x_test_tfidf)\n",
    "y_cv = prediction_evulation(models_cv, x_test_cv)"
   ]
  },
  {
   "cell_type": "code",
   "execution_count": 14,
   "metadata": {},
   "outputs": [
    {
     "name": "stdout",
     "output_type": "stream",
     "text": [
      "Result for tf-idf and logistic regression:\n",
      " [[55 20]\n",
      " [43 82]] \n",
      " Correct prediction are: 137 \n",
      "\n",
      "Result for cv and logistic regression:\n",
      " [[64  8]\n",
      " [52 76]] \n",
      " Correct prediction are: 140 \n",
      "\n",
      "Result for tf-idf and naive bayes:\n",
      " [[88 22]\n",
      " [10 80]] \n",
      " Correct prediction are: 168 \n",
      "\n",
      "Result for cv and naive bayes:\n",
      " [[95 18]\n",
      " [21 66]] \n",
      " Correct prediction are: 161 \n",
      "\n",
      "Result for tf-idf and svm:\n",
      " [[92 24]\n",
      " [ 6 78]] \n",
      " Correct prediction are: 170 \n",
      "\n",
      "Result for cv and svm:\n",
      " [[96 20]\n",
      " [20 64]] \n",
      " Correct prediction are: 160 \n",
      "\n"
     ]
    }
   ],
   "source": [
    "# confusion_martix\n",
    "def confusion_martices(y, y_pred, dataset_name, model_name) :\n",
    "        y_pred = confusion_matrix(y, y_pred)\n",
    "        print(\"Result for \"+dataset_name+\" and \"+model_name+\":\\n\", \n",
    "              y_pred,\"\\n\",\n",
    "              \"Correct prediction are:\",sum(y_pred.diagonal()),\"\\n\")\n",
    "        \n",
    "for j,algorithm in  enumerate([\"logistic regression\",\"naive bayes\",\"svm\"]):\n",
    "    confusion_martices(y_tfidf[j], y_test_tfidf, 'tf-idf', algorithm)\n",
    "    confusion_martices(y_cv[j], y_test_cv, 'cv', algorithm)"
   ]
  },
  {
   "cell_type": "markdown",
   "metadata": {},
   "source": [
    "Since the dataset is small, how <b>train test split</b> works is very important. That decides the number of words that will be considered for training and what will be the count of number of labels in each of train and test set."
   ]
  },
  {
   "cell_type": "markdown",
   "metadata": {},
   "source": []
  }
 ],
 "metadata": {
  "kernelspec": {
   "display_name": "Python 3",
   "language": "python",
   "name": "python3"
  },
  "language_info": {
   "codemirror_mode": {
    "name": "ipython",
    "version": 3
   },
   "file_extension": ".py",
   "mimetype": "text/x-python",
   "name": "python",
   "nbconvert_exporter": "python",
   "pygments_lexer": "ipython3",
   "version": "3.8.3"
  }
 },
 "nbformat": 4,
 "nbformat_minor": 4
}
